{
 "cells": [
  {
   "cell_type": "code",
   "execution_count": 1,
   "id": "c1921ba0",
   "metadata": {},
   "outputs": [],
   "source": [
    "import numpy as np"
   ]
  },
  {
   "cell_type": "code",
   "execution_count": null,
   "id": "e8463e17",
   "metadata": {},
   "outputs": [],
   "source": []
  },
  {
   "cell_type": "code",
   "execution_count": 24,
   "id": "6db0b480",
   "metadata": {},
   "outputs": [],
   "source": [
    "N = 1024"
   ]
  },
  {
   "cell_type": "code",
   "execution_count": 25,
   "id": "47a662d8",
   "metadata": {},
   "outputs": [],
   "source": [
    "A = np.random.randint(-20, 20, (N, N))\n",
    "\n",
    "with open('A_data', 'w+') as f:\n",
    "    for x in A.flatten():\n",
    "        f.write(str(x) + \" \")"
   ]
  },
  {
   "cell_type": "code",
   "execution_count": 26,
   "id": "904319fb",
   "metadata": {},
   "outputs": [],
   "source": [
    "B = np.random.randint(-20, 20, (N, N))\n",
    "\n",
    "with open('B_data', 'w+') as f:\n",
    "    for x in B.flatten():\n",
    "        f.write(str(x) + \" \")"
   ]
  },
  {
   "cell_type": "code",
   "execution_count": 31,
   "id": "96157383",
   "metadata": {},
   "outputs": [],
   "source": [
    "with open('C_data', 'r') as f:\n",
    "    C_data = f.readline().split(' ')\n",
    "    C_data = [int(x) for x in C_data if len(x) > 0]\n",
    "    C = np.array(C_data).reshape((N, N))"
   ]
  },
  {
   "cell_type": "code",
   "execution_count": 32,
   "id": "50e3c3b4",
   "metadata": {},
   "outputs": [
    {
     "data": {
      "text/plain": [
       "True"
      ]
     },
     "execution_count": 32,
     "metadata": {},
     "output_type": "execute_result"
    }
   ],
   "source": [
    "(np.matmul(A, B) == C).all()"
   ]
  },
  {
   "cell_type": "code",
   "execution_count": null,
   "id": "be44c968",
   "metadata": {},
   "outputs": [],
   "source": []
  }
 ],
 "metadata": {
  "kernelspec": {
   "display_name": "Python 3",
   "language": "python",
   "name": "python3"
  },
  "language_info": {
   "codemirror_mode": {
    "name": "ipython",
    "version": 3
   },
   "file_extension": ".py",
   "mimetype": "text/x-python",
   "name": "python",
   "nbconvert_exporter": "python",
   "pygments_lexer": "ipython3",
   "version": "3.7.10"
  }
 },
 "nbformat": 4,
 "nbformat_minor": 5
}
